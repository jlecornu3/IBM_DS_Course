{
 "cells": [
  {
   "cell_type": "markdown",
   "id": "9f425298-0477-4ab3-89d1-f4a0b85ca0a7",
   "metadata": {},
   "source": [
    "# My Jupyter Notebook on IBM Watson Studio\n"
   ]
  },
  {
   "cell_type": "markdown",
   "id": "1208874a-b4ea-4371-8830-25523efe9687",
   "metadata": {},
   "source": [
    "**Joshua Le Cornu**\n",
    "\n",
    "Data Scientist"
   ]
  },
  {
   "cell_type": "markdown",
   "id": "f647634f-8812-4f74-8654-0515259e960b",
   "metadata": {},
   "source": [
    "*I'm currently working as a decision and data analyst in finance, but now I am keen to extend my knowledge of data science techniques to work with more unstructured data and modeling techniques in the future.*"
   ]
  },
  {
   "cell_type": "markdown",
   "id": "573d6588-32fe-49cc-acb3-91ab19cf4a8e",
   "metadata": {},
   "source": [
    "### The code below will print the current date"
   ]
  },
  {
   "cell_type": "code",
   "execution_count": 3,
   "id": "8b06d146-d202-4988-9220-c9f8e03f8546",
   "metadata": {},
   "outputs": [
    {
     "name": "stdout",
     "output_type": "stream",
     "text": [
      "Today's date: 2022-09-04\n"
     ]
    }
   ],
   "source": [
    "from datetime import date\n",
    "\n",
    "today = date.today()\n",
    "print(\"Today's date:\", today)"
   ]
  },
  {
   "cell_type": "markdown",
   "id": "088e98ee-2faf-4641-a8d2-8d5874d8be81",
   "metadata": {},
   "source": [
    "Here are some example markdown aspects:\n",
    "\n",
    "* Here is item 1 of a list\n",
    "* Here is item 2\n",
    "\n",
    "| Syntax      | Description |\n",
    "| ----------- | ----------- |\n",
    "| Header      | Title       |\n",
    "| Paragraph   | Text        |\n",
    "\n",
    "The horizontal line below marks the end of my notebook.\n",
    "\n",
    "______"
   ]
  }
 ],
 "metadata": {
  "kernelspec": {
   "display_name": "Python",
   "language": "python",
   "name": "conda-env-python-py"
  },
  "language_info": {
   "codemirror_mode": {
    "name": "ipython",
    "version": 3
   },
   "file_extension": ".py",
   "mimetype": "text/x-python",
   "name": "python",
   "nbconvert_exporter": "python",
   "pygments_lexer": "ipython3",
   "version": "3.7.12"
  }
 },
 "nbformat": 4,
 "nbformat_minor": 5
}
